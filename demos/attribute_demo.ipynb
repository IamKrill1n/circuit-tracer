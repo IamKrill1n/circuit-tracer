{
 "cells": [
  {
   "cell_type": "markdown",
   "metadata": {
    "id": "Qa5r1-7RmS8j"
   },
   "source": [
    "# Attribution Demo \n",
    "\n",
    "<a target=\"_blank\" href=\"https://colab.research.google.com/github/safety-research/circuit-tracer/blob/main/demos/attribute_demo.ipynb\">\n",
    "  <img src=\"https://colab.research.google.com/assets/colab-badge.svg\" alt=\"Open In Colab\"/>\n",
    "</a>\n",
    "\n",
    "In this demo, you'll learn how to load models and perform attribution on them."
   ]
  },
  {
   "cell_type": "code",
   "execution_count": 1,
   "metadata": {},
   "outputs": [],
   "source": [
    "#@title Colab Setup Environment\n",
    "\n",
    "try:\n",
    "    import google.colab\n",
    "    !mkdir -p repository && cd repository && \\\n",
    "     git clone https://github.com/safety-research/circuit-tracer && \\\n",
    "     curl -LsSf https://astral.sh/uv/install.sh | sh && \\\n",
    "     uv pip install -e circuit-tracer/\n",
    "\n",
    "    import sys\n",
    "    from huggingface_hub import notebook_login\n",
    "    sys.path.append('repository/circuit-tracer')\n",
    "    sys.path.append('repository/circuit-tracer/demos')\n",
    "    notebook_login(new_session=False)\n",
    "    IN_COLAB = True\n",
    "except ImportError:\n",
    "    IN_COLAB = False\n",
    "    # import sys\n",
    "    # sys.path.insert(0, \"/home/tu/circuit-tracer/circuit_tracer\")"
   ]
  },
  {
   "cell_type": "code",
   "execution_count": 2,
   "metadata": {
    "id": "P8fNhpqzmS8k"
   },
   "outputs": [],
   "source": [
    "from pathlib import Path\n",
    "import torch\n",
    "\n",
    "from circuit_tracer import ReplacementModel, attribute\n",
    "from circuit_tracer.utils.create_graph_files import create_graph_files, create_graph_files_topk, create_graph_files_edge_weights    \n",
    "from circuit_tracer.graph import Graph, prune_graph, compute_graph_scores\n",
    "from circuit_tracer.subgraph.prune import prune_graph_topk, prune_graph_edge_weights\n",
    "from circuit_tracer.subgraph.clustering import compute_invalid_merge_pairs, hierarchical_cluster_from_invalid"
   ]
  },
  {
   "cell_type": "markdown",
   "metadata": {
    "id": "ZN_3kEyfmS8k"
   },
   "source": [
    "First, load your model and transcoders by name. `model_name` is a normal HuggingFace / [TransformerLens](https://github.com/TransformerLensOrg/TransformerLens) model name; we'll use `google/gemma-2-2b`. We set `transcoder_name` to `gemma`, which is shorthand for the [Gemma Scope](https://arxiv.org/abs/2408.05147) transcoders; we take the transcoders with lowest L0 (mean # of active features) for each layer.\n",
    "\n",
    "We additionally support `model_name = \"meta-llama/Llama-3.2-1B\"`, with `\"llama\"` transcoders; these are ReLU skip-transcoders that we trained, available [here](https://huggingface.co/mntss/skip-transcoder-Llama-3.2-1B-131k-nobos/tree/new-training).\n",
    "\n",
    "If you want to use other models, you'll have to provide your own transcoders. To do this, set `transcoder_name` to point to your own configuration file, specifying the list of transcoders that you want to use. You can see `circuit_tracer/configs` for example configs."
   ]
  },
  {
   "cell_type": "code",
   "execution_count": null,
   "metadata": {},
   "outputs": [],
   "source": [
    "from huggingface_hub import login\n",
    "\n",
    "login(token=\"\")"
   ]
  },
  {
   "cell_type": "code",
   "execution_count": 3,
   "metadata": {
    "id": "BBsETpl0mS8l"
   },
   "outputs": [
    {
     "data": {
      "application/vnd.jupyter.widget-view+json": {
       "model_id": "a3c48e6f46e94e5fb5ad66d605d96277",
       "version_major": 2,
       "version_minor": 0
      },
      "text/plain": [
       "Fetching 26 files:   0%|          | 0/26 [00:00<?, ?it/s]"
      ]
     },
     "metadata": {},
     "output_type": "display_data"
    },
    {
     "data": {
      "application/vnd.jupyter.widget-view+json": {
       "model_id": "a9adb1958b7043c68957bb80a7b0f7c1",
       "version_major": 2,
       "version_minor": 0
      },
      "text/plain": [
       "Loading checkpoint shards:   0%|          | 0/3 [00:00<?, ?it/s]"
      ]
     },
     "metadata": {},
     "output_type": "display_data"
    },
    {
     "name": "stdout",
     "output_type": "stream",
     "text": [
      "Loaded pretrained model google/gemma-2-2b into HookedTransformer\n"
     ]
    }
   ],
   "source": [
    "model_name = 'google/gemma-2-2b'\n",
    "transcoder_name = \"gemma\" #\"gemma\" mntss/clt-gemma-2-2b-426k\n",
    "model = ReplacementModel.from_pretrained(model_name, transcoder_name, dtype=torch.bfloat16)"
   ]
  },
  {
   "cell_type": "markdown",
   "metadata": {
    "id": "dcZNR0egmS8l"
   },
   "source": [
    "Next, set your attribution arguments."
   ]
  },
  {
   "cell_type": "code",
   "execution_count": 4,
   "metadata": {
    "id": "5XBwNyq4mS8l"
   },
   "outputs": [],
   "source": [
    "prompt = \"Fact: The capital of state containing Dallas is\"  # What you want to get the graph for\n",
    "max_n_logits = 10   # How many logits to attribute from, max. We attribute to min(max_n_logits, n_logits_to_reach_desired_log_prob); see below for the latter\n",
    "desired_logit_prob = 0.95  # Attribution will attribute from the minimum number of logits needed to reach this probability mass (or max_n_logits, whichever is lower)\n",
    "max_feature_nodes = 8192  # Only attribute from this number of feature nodes, max. Lower is faster, but you will lose more of the graph. None means no limit.\n",
    "batch_size=256  # Batch size when attributing\n",
    "offload='disk' if IN_COLAB else 'cpu' # Offload various parts of the model during attribution to save memory. Can be 'disk', 'cpu', or None (keep on GPU)\n",
    "verbose = True  # Whether to display a tqdm progress bar and timing report"
   ]
  },
  {
   "cell_type": "markdown",
   "metadata": {
    "id": "VXfD-5GrmS8l"
   },
   "source": [
    "Then, just run attribution!"
   ]
  },
  {
   "cell_type": "code",
   "execution_count": 10,
   "metadata": {
    "id": "wx2XiXVjmS8l"
   },
   "outputs": [
    {
     "name": "stderr",
     "output_type": "stream",
     "text": [
      "Phase 0: Precomputing activations and vectors\n",
      "Precomputation completed in 0.51s\n",
      "Found 8296 active features\n",
      "Phase 1: Running forward pass\n",
      "Forward pass completed in 0.09s\n",
      "Phase 2: Building input vectors\n",
      "Selected 10 logits with cumulative probability 0.7148\n",
      "Will include 8192 of 8296 feature nodes\n",
      "Input vectors built in 1.81s\n",
      "Phase 3: Computing logit attributions\n",
      "<sys>:0: UserWarning: Full backward hook is firing when gradients are computed with respect to module outputs since no inputs require gradients. See https://docs.pytorch.org/docs/main/generated/torch.nn.Module.html#torch.nn.Module.register_full_backward_hook for more details.\n",
      "Logit attributions completed in 0.08s\n",
      "Phase 4: Computing feature attributions\n",
      "Feature influence computation: 100%|██████████| 8192/8192 [00:01<00:00, 4368.04it/s]\n",
      "Feature attributions completed in 1.88s\n",
      "Attribution completed in 9.61s\n"
     ]
    }
   ],
   "source": [
    "graph = attribute(\n",
    "    prompt=prompt,\n",
    "    model=model,\n",
    "    max_n_logits=max_n_logits,\n",
    "    desired_logit_prob=desired_logit_prob,\n",
    "    batch_size=batch_size,\n",
    "    max_feature_nodes=max_feature_nodes,\n",
    "    offload=offload,\n",
    "    verbose=verbose\n",
    ")"
   ]
  },
  {
   "cell_type": "markdown",
   "metadata": {
    "id": "RUn1YKnUmS8l"
   },
   "source": [
    "We now have a graph object! We can save it as a .pt file, but be warned that it's large (~167MB)."
   ]
  },
  {
   "cell_type": "code",
   "execution_count": 5,
   "metadata": {
    "id": "2tLE4FzdmS8m"
   },
   "outputs": [],
   "source": [
    "graph_dir = 'graphs'\n",
    "graph_name = 'austin.pt'\n",
    "graph_dir = Path(graph_dir)\n",
    "graph_dir.mkdir(exist_ok=True)\n",
    "graph_path = graph_dir / graph_name\n",
    "\n",
    "# graph.to_pt(graph_path)"
   ]
  },
  {
   "cell_type": "code",
   "execution_count": 23,
   "metadata": {},
   "outputs": [
    {
     "name": "stdout",
     "output_type": "stream",
     "text": [
      "tensor(33) tensor(18) tensor([0.7679, 0.7670, 0.7059,  ..., 1.0000, 1.0000, 1.0000])\n"
     ]
    }
   ],
   "source": [
    "graph = Graph.from_pt(graph_path)\n",
    "node_mask, edge_mask, cumulative_scores = prune_graph_topk(graph, top_k = 3)\n",
    "# node_mask, edge_mask, cumulative_scores = prune_graph_edge_weights(graph, edge_weight_threshold=3)\n",
    "print(edge_mask.sum(), node_mask.sum(), cumulative_scores)"
   ]
  },
  {
   "cell_type": "code",
   "execution_count": 24,
   "metadata": {},
   "outputs": [
    {
     "name": "stdout",
     "output_type": "stream",
     "text": [
      "[{474, 677, 6942}, {7267, 1118}, {1527}, {1904}, {2497, 7159}, {5006}, {6906}, {7479}, {8452}, {8456}, {8457}, {8458}, {8460}, {8462}]\n"
     ]
    }
   ],
   "source": [
    "results = hierarchical_cluster_from_invalid(graph, *compute_invalid_merge_pairs(graph, node_mask, edge_mask), edge_mask=edge_mask, num_clusters=10)\n",
    "print(results)"
   ]
  },
  {
   "cell_type": "code",
   "execution_count": 25,
   "metadata": {},
   "outputs": [
    {
     "name": "stdout",
     "output_type": "stream",
     "text": [
      "Node 474: Feature, Degree: 3\n",
      "  Active feature: tensor([   0,    6, 7750])\n",
      "Node 677: Feature, Degree: 3\n",
      "  Active feature: tensor([   0,    8, 5626])\n",
      "Node 1118: Feature, Degree: 3\n",
      "  Active feature: tensor([   1,    8, 4767])\n",
      "Node 1527: Feature, Degree: 3\n",
      "  Active feature: tensor([   2,    8, 9457])\n",
      "Node 1904: Feature, Degree: 3\n",
      "  Active feature: tensor([   3,    8, 5892])\n",
      "Node 2497: Feature, Degree: 3\n",
      "  Active feature: tensor([    4,     8, 13154])\n",
      "Node 5006: Feature, Degree: 2\n",
      "  Active feature: tensor([   7,    8, 6861])\n",
      "Node 6906: Feature, Degree: 3\n",
      "  Active feature: tensor([  14,    8, 2268])\n",
      "Node 6942: Feature, Degree: 1\n",
      "  Active feature: tensor([  15,    4, 4494])\n",
      "Node 7159: Feature, Degree: 2\n",
      "  Active feature: tensor([  17,    9, 7178])\n",
      "Node 7267: Feature, Degree: 2\n",
      "  Active feature: tensor([  18,    9, 8959])\n",
      "Node 7479: Feature, Degree: 3\n",
      "  Active feature: tensor([   20,     9, 15589])\n",
      "Node 8452: Token, Degree: 0\n",
      "  Token: 0\n",
      "Node 8456: Token, Degree: 0\n",
      "  Token: 4\n",
      "Node 8457: Token, Degree: 0\n",
      "  Token: 5\n",
      "Node 8458: Token, Degree: 0\n",
      "  Token: 6\n",
      "Node 8460: Token, Degree: 0\n",
      "  Token: 8\n",
      "Node 8462: Logit, Degree: 2\n"
     ]
    }
   ],
   "source": [
    "# Print out all nodes, and if a node is a Feature, print its active feature details.\n",
    "\n",
    "# Print out all nodes, and if a node is a Feature, print its active feature details.\n",
    "\n",
    "n_features = len(graph.selected_features)         # first set of nodes: feature nodes\n",
    "n_token = len(graph.input_tokens)                # token nodes count\n",
    "n_error = graph.cfg.n_layers * n_token            # error nodes count\n",
    "\n",
    "node_attrs = {}\n",
    "for orig_idx in torch.where(node_mask)[0].tolist():\n",
    "    if orig_idx < n_features:\n",
    "        node_type = \"Feature\"\n",
    "        data = tuple(graph.active_features[orig_idx].tolist())\n",
    "    elif orig_idx < n_features + n_error:\n",
    "        node_type = \"Error\"\n",
    "        data = None\n",
    "    elif orig_idx < n_features + n_error + n_token:\n",
    "        node_type = \"Token\"\n",
    "        data = None\n",
    "    else:\n",
    "        node_type = \"Logit\"\n",
    "        data = None\n",
    "    node_attrs[orig_idx] = {\"type\": node_type, \"data\": data}\n",
    "\n",
    "for node in torch.where(node_mask)[0].tolist():\n",
    "    node_type = node_attrs[node][\"type\"]\n",
    "    print(f\"Node {node}: {node_type}, Degree: {edge_mask[node].sum().item()}\")\n",
    "    if node_type == \"Feature\":\n",
    "        print(\"  Active feature:\", graph.active_features[node])\n",
    "    elif node_type == \"Token\":\n",
    "        print(\"  Token:\", node - n_features - n_error)"
   ]
  },
  {
   "cell_type": "markdown",
   "metadata": {
    "id": "w3cdLLfJmS8m"
   },
   "source": [
    "Given this object, we can create the graph files that we need to visualize the graph. Give it a slug (name), and set the node / edge thresholds for pruning. Pruning removes unimportant nodes and edges from your graph; lower thresholds (i.e., more aggressive pruning) results in smaller graphs. These may be easier to interpret, but explain less of the model's behavior."
   ]
  },
  {
   "cell_type": "code",
   "execution_count": 6,
   "metadata": {
    "id": "Vh8HPtimmS8m"
   },
   "outputs": [],
   "source": [
    "slug = \"dallas-austin\"  # this is the name that you assign to the graph\n",
    "graph_file_dir = './graph_files'  # where to write the graph files. no need to make this one; create_graph_files does that for you\n",
    "node_threshold=0.8  # keep only the minimum # of nodes whose cumulative influence is >= 0.8\n",
    "edge_threshold=0.98  # keep only the minimum # of edges whose cumulative influence is >= 0.98\n",
    "\n",
    "create_graph_files(\n",
    "    graph_or_path=graph_path,  # the graph to create files for\n",
    "    slug=slug,\n",
    "    output_path=graph_file_dir,\n",
    "    node_threshold=node_threshold,\n",
    "    edge_threshold=edge_threshold\n",
    ")\n",
    "\n",
    "# create_graph_files_topk(\n",
    "#     graph_or_path=graph_path,  # the graph to create files for\n",
    "#     slug=slug,\n",
    "#     output_path=graph_file_dir,\n",
    "#     top_k=3\n",
    "# )\n",
    "\n",
    "# create_graph_files_edge_weights(\n",
    "#     graph_or_path=graph_path,  # the graph to create files for\n",
    "#     slug=slug,\n",
    "#     output_path=graph_file_dir,\n",
    "#     edge_weight_threshold=3\n",
    "# )"
   ]
  },
  {
   "cell_type": "markdown",
   "metadata": {
    "id": "EQuFE-eimS8m"
   },
   "source": [
    "Now, you can visualize the graph using the following commands! This will spin up a local server to act as the frontend.\n",
    "\n",
    "**If you're running this notebook on a remote server, make sure that you set up port forwarding, so that the chosen port is accessible on your local machine too.**\n",
    "\n",
    "You can select nodes by clicking on them. Ctrl/Cmd+Click on nodes to pin and unpin them to your subgraph. G+Click on nodes in the subgraph to group them together into a supernode; G+Click on the X next to a supernode to dissolve it. Click on the edit button to edit node descriptions, and click on supernode description to edit that."
   ]
  },
  {
   "cell_type": "code",
   "execution_count": 4,
   "metadata": {
    "id": "gMZ8Ee-KmS8m"
   },
   "outputs": [
    {
     "ename": "OSError",
     "evalue": "[Errno 98] Address already in use",
     "output_type": "error",
     "traceback": [
      "\u001b[31m---------------------------------------------------------------------------\u001b[39m",
      "\u001b[31mOSError\u001b[39m                                   Traceback (most recent call last)",
      "\u001b[36mCell\u001b[39m\u001b[36m \u001b[39m\u001b[32mIn[4]\u001b[39m\u001b[32m, line 4\u001b[39m\n\u001b[32m      1\u001b[39m \u001b[38;5;28;01mfrom\u001b[39;00m\u001b[38;5;250m \u001b[39m\u001b[34;01mcircuit_tracer\u001b[39;00m\u001b[34;01m.\u001b[39;00m\u001b[34;01mfrontend\u001b[39;00m\u001b[34;01m.\u001b[39;00m\u001b[34;01mlocal_server\u001b[39;00m\u001b[38;5;250m \u001b[39m\u001b[38;5;28;01mimport\u001b[39;00m serve\n\u001b[32m      3\u001b[39m port = \u001b[32m8046\u001b[39m\n\u001b[32m----> \u001b[39m\u001b[32m4\u001b[39m server = serve(data_dir=\u001b[33m'\u001b[39m\u001b[33m./graph_files/\u001b[39m\u001b[33m'\u001b[39m, port=port)\n\u001b[32m      6\u001b[39m \u001b[38;5;28;01mif\u001b[39;00m IN_COLAB:\n\u001b[32m      7\u001b[39m     \u001b[38;5;28;01mfrom\u001b[39;00m\u001b[38;5;250m \u001b[39m\u001b[34;01mgoogle\u001b[39;00m\u001b[34;01m.\u001b[39;00m\u001b[34;01mcolab\u001b[39;00m\u001b[38;5;250m \u001b[39m\u001b[38;5;28;01mimport\u001b[39;00m output \u001b[38;5;28;01mas\u001b[39;00m colab_output  \u001b[38;5;66;03m# noqa\u001b[39;00m\n",
      "\u001b[36mFile \u001b[39m\u001b[32m~/.conda/envs/circuit/lib/python3.13/site-packages/circuit_tracer/frontend/local_server.py:216\u001b[39m, in \u001b[36mserve\u001b[39m\u001b[34m(data_dir, frontend_dir, port)\u001b[39m\n\u001b[32m    213\u001b[39m \u001b[38;5;66;03m# Create a partially applied handler class with configured directories\u001b[39;00m\n\u001b[32m    214\u001b[39m handler = functools.partial(CircuitGraphHandler, frontend_dir=frontend_dir, data_dir=data_dir)\n\u001b[32m--> \u001b[39m\u001b[32m216\u001b[39m httpd = ReusableTCPServer((\u001b[33m\"\u001b[39m\u001b[33m\"\u001b[39m, port), handler)\n\u001b[32m    218\u001b[39m \u001b[38;5;66;03m# Start the server in a thread\u001b[39;00m\n\u001b[32m    219\u001b[39m server_thread = threading.Thread(target=httpd.serve_forever, daemon=\u001b[38;5;28;01mTrue\u001b[39;00m)\n",
      "\u001b[36mFile \u001b[39m\u001b[32m~/.conda/envs/circuit/lib/python3.13/socketserver.py:457\u001b[39m, in \u001b[36mTCPServer.__init__\u001b[39m\u001b[34m(self, server_address, RequestHandlerClass, bind_and_activate)\u001b[39m\n\u001b[32m    455\u001b[39m \u001b[38;5;28;01mif\u001b[39;00m bind_and_activate:\n\u001b[32m    456\u001b[39m     \u001b[38;5;28;01mtry\u001b[39;00m:\n\u001b[32m--> \u001b[39m\u001b[32m457\u001b[39m         \u001b[38;5;28mself\u001b[39m.server_bind()\n\u001b[32m    458\u001b[39m         \u001b[38;5;28mself\u001b[39m.server_activate()\n\u001b[32m    459\u001b[39m     \u001b[38;5;28;01mexcept\u001b[39;00m:\n",
      "\u001b[36mFile \u001b[39m\u001b[32m~/.conda/envs/circuit/lib/python3.13/socketserver.py:478\u001b[39m, in \u001b[36mTCPServer.server_bind\u001b[39m\u001b[34m(self)\u001b[39m\n\u001b[32m    473\u001b[39m \u001b[38;5;28;01mif\u001b[39;00m (\n\u001b[32m    474\u001b[39m     \u001b[38;5;28mself\u001b[39m.allow_reuse_port \u001b[38;5;129;01mand\u001b[39;00m \u001b[38;5;28mhasattr\u001b[39m(socket, \u001b[33m\"\u001b[39m\u001b[33mSO_REUSEPORT\u001b[39m\u001b[33m\"\u001b[39m)\n\u001b[32m    475\u001b[39m     \u001b[38;5;129;01mand\u001b[39;00m \u001b[38;5;28mself\u001b[39m.address_family \u001b[38;5;129;01min\u001b[39;00m (socket.AF_INET, socket.AF_INET6)\n\u001b[32m    476\u001b[39m ):\n\u001b[32m    477\u001b[39m     \u001b[38;5;28mself\u001b[39m.socket.setsockopt(socket.SOL_SOCKET, socket.SO_REUSEPORT, \u001b[32m1\u001b[39m)\n\u001b[32m--> \u001b[39m\u001b[32m478\u001b[39m \u001b[38;5;28mself\u001b[39m.socket.bind(\u001b[38;5;28mself\u001b[39m.server_address)\n\u001b[32m    479\u001b[39m \u001b[38;5;28mself\u001b[39m.server_address = \u001b[38;5;28mself\u001b[39m.socket.getsockname()\n",
      "\u001b[31mOSError\u001b[39m: [Errno 98] Address already in use"
     ]
    }
   ],
   "source": [
    "from circuit_tracer.frontend.local_server import serve\n",
    "\n",
    "port = 8046\n",
    "server = serve(data_dir='./graph_files/', port=port)\n",
    "\n",
    "if IN_COLAB:\n",
    "    from google.colab import output as colab_output  # noqa\n",
    "    colab_output.serve_kernel_port_as_iframe(port, path='/index.html', height='800px', cache_in_notebook=True)\n",
    "else:\n",
    "    from IPython.display import IFrame\n",
    "    print(f\"Use the IFrame below, or open your graph here: f'http://localhost:{port}/index.html'\")\n",
    "    # display(IFrame(src=f'http://localhost:{port}/index.html', width='100%', height='800px'))\n"
   ]
  },
  {
   "cell_type": "code",
   "execution_count": 11,
   "metadata": {},
   "outputs": [
    {
     "data": {
      "text/html": [
       "\n",
       "        <iframe\n",
       "            width=\"100%\"\n",
       "            height=\"800px\"\n",
       "            src=\"http://localhost:8046/index.html\"\n",
       "            frameborder=\"0\"\n",
       "            allowfullscreen\n",
       "            \n",
       "        ></iframe>\n",
       "        "
      ],
      "text/plain": [
       "<IPython.lib.display.IFrame at 0x7f648369e210>"
      ]
     },
     "metadata": {},
     "output_type": "display_data"
    }
   ],
   "source": [
    "display(IFrame(src=f'http://localhost:{port}/index.html', width='100%', height='800px'))"
   ]
  },
  {
   "cell_type": "markdown",
   "metadata": {
    "id": "yDGiO8jBmS8m"
   },
   "source": [
    "Once you're done, you can stop the server with the following command."
   ]
  },
  {
   "cell_type": "code",
   "execution_count": 11,
   "metadata": {
    "id": "185O1Ck1mS8m"
   },
   "outputs": [
    {
     "ename": "NameError",
     "evalue": "name 'server' is not defined",
     "output_type": "error",
     "traceback": [
      "\u001b[31m---------------------------------------------------------------------------\u001b[39m",
      "\u001b[31mNameError\u001b[39m                                 Traceback (most recent call last)",
      "\u001b[36mCell\u001b[39m\u001b[36m \u001b[39m\u001b[32mIn[11]\u001b[39m\u001b[32m, line 1\u001b[39m\n\u001b[32m----> \u001b[39m\u001b[32m1\u001b[39m server.stop()\n",
      "\u001b[31mNameError\u001b[39m: name 'server' is not defined"
     ]
    }
   ],
   "source": [
    "server.stop()"
   ]
  },
  {
   "cell_type": "markdown",
   "metadata": {
    "id": "98579UbGmS8m"
   },
   "source": [
    "Congrats, you're done! Go to `intervention_demo.ipynb` to see how to perform interventions, or check out `gemma_demo.ipynb` and `llama_demo.ipynb` for examples of worked-out test examples. Read on for a bit more info aabout the Graph class and pruning."
   ]
  },
  {
   "cell_type": "markdown",
   "metadata": {
    "id": "tkgM1cBCmS8m"
   },
   "source": [
    "## Graphs"
   ]
  },
  {
   "cell_type": "markdown",
   "metadata": {
    "id": "IGnU9l1zmS8m"
   },
   "source": [
    "Earlier, you created a graph object. Its adjacency matrix / edge weights are stored in `graph.adjacency_matrix` in a dense format; rows are target nodes and columns are source nodes. The first `len(graph.real_features)` entries of the matrix represent features; the `i`th entry corresponds to the `i`th feature in `graph.real_features`, given in `(layer, position, feature_idx)` format. The next `graph.cfg.n_layers * graph.n_pos` entries are error_nodes. The next `graph.n_pos` entries are token nodes. The final `len(graph.logit_tokens)` entries are logit nodes.\n",
    "\n",
    "The value of the cell `graph.adjacency_matrix[target, source]` is the direct effect of the source node on the target node. That is, it tells you how much the target node's value would change if the source node were set to 0, while holding the attention patterns, layernorm denominators, and other feature activations constatnt. Thus, if the target node is a feature, this tells you how much the target feature would change; if the target node is a logit, this tells you how much the (de-meaned) value of the logit would change.\n",
    "\n",
    "Note that `gemma-2-2b` is model (family) that uses logit softcapping. This means that a softcap function, `softcap(x) = t * tanh(x/t)` is used to constrain the logits to fall within (-t, t); `gemma-2-2b` uses `t=30`. For such models, we predict the change in logits *pre-softcap*, as the nonlinearity introduced by softcapping would cause our attribution to yield incorrect / approximate direct effect values."
   ]
  },
  {
   "cell_type": "markdown",
   "metadata": {
    "id": "IWTV8i9zmS8n"
   },
   "source": [
    "### Pruning\n",
    "Given a graph, you might want to prune it, as it will otherwise contain many low-impact nodes and edges that clutter the circuit diagram while adding little information. We enable you to prune nodes by absolute influence, i.e. the total impact that the nodes have on the logits, direct and indirect. The default threshold is 0.8: this means we will keep the minimum number of nodes required to capture 80% of all logit effects. Similarly, the edge_threshold, by default 0.98, means that we will keep the minimum number of edges required to capture 98% of all logit effects."
   ]
  },
  {
   "cell_type": "markdown",
   "metadata": {},
   "source": [
    "# Visualization"
   ]
  },
  {
   "cell_type": "code",
   "execution_count": 14,
   "metadata": {},
   "outputs": [],
   "source": [
    "from circuit_tracer.subgraph.clustering import hierarchical_cluster_from_invalid, compute_invalid_merge_pairs\n",
    "\n",
    "invalid_merge_pairs, valid_nodes = compute_invalid_merge_pairs(graph, node_mask, edge_mask)\n",
    "clusters = hierarchical_cluster_from_invalid(\n",
    "    graph, invalid_merge_pairs, valid_nodes, edge_mask=edge_mask, num_clusters=10\n",
    ")"
   ]
  },
  {
   "cell_type": "code",
   "execution_count": 20,
   "metadata": {},
   "outputs": [],
   "source": [
    "from graph_visualization import create_graph_visualization, Supernode, InterventionGraph\n",
    "\n",
    "supernodes = []\n",
    "for i, cluster in enumerate(clusters):\n",
    "    name = f\"Cluster {i}\"\n",
    "    # Optionally, you could store additional info from the cluster in 'features'\n",
    "    sn = Supernode(name=name, features=[graph.active_features[idx].tolist() for idx in cluster if idx < len(graph.active_features)])\n",
    "    supernodes.append(sn)"
   ]
  },
  {
   "cell_type": "code",
   "execution_count": 21,
   "metadata": {},
   "outputs": [
    {
     "data": {
      "image/svg+xml": [
       "<svg xmlns=\"http://www.w3.org/2000/svg\" width=\"700\" height=\"400\">\n",
       "    <!-- Background -->\n",
       "    <rect width=\"700\" height=\"400\" fill=\"#f5f5f5\"/>\n",
       "    <rect x=\"20\" y=\"20\" width=\"660\" height=\"360\" fill=\"white\" stroke=\"none\" rx=\"12\"/>\n",
       "    \n",
       "    <!-- Title -->\n",
       "    <text x=\"40\" y=\"45\" fill=\"#666\" font-family=\"Arial, sans-serif\" font-size=\"14\" font-weight=\"bold\" text-transform=\"uppercase\" letter-spacing=\"1px\">Graph &amp; Interventions</text>\n",
       "    \n",
       "    <!-- Graph area (moved up significantly) -->\n",
       "    <g transform=\"translate(50, 0)\">\n",
       "        \n",
       "        <rect x=\"-800.0\" y=\"250.0\" width=\"100\" height=\"35\" fill=\"#e8e8e8\" stroke=\"#999\" stroke-width=\"2\" rx=\"8\"/>\n",
       "<text x=\"-750.0\" y=\"272.0\" text-anchor=\"middle\" fill=\"#333\" font-family=\"Arial, sans-serif\" font-size=\"12\" font-weight=\"bold\">Cluster 0</text>\n",
       "<rect x=\"-650.0\" y=\"250.0\" width=\"100\" height=\"35\" fill=\"#e8e8e8\" stroke=\"#999\" stroke-width=\"2\" rx=\"8\"/>\n",
       "<text x=\"-600.0\" y=\"272.0\" text-anchor=\"middle\" fill=\"#333\" font-family=\"Arial, sans-serif\" font-size=\"12\" font-weight=\"bold\">Cluster 1</text>\n",
       "<rect x=\"-500.0\" y=\"250.0\" width=\"100\" height=\"35\" fill=\"#e8e8e8\" stroke=\"#999\" stroke-width=\"2\" rx=\"8\"/>\n",
       "<text x=\"-450.0\" y=\"272.0\" text-anchor=\"middle\" fill=\"#333\" font-family=\"Arial, sans-serif\" font-size=\"12\" font-weight=\"bold\">Cluster 2</text>\n",
       "<rect x=\"-350.0\" y=\"250.0\" width=\"100\" height=\"35\" fill=\"#e8e8e8\" stroke=\"#999\" stroke-width=\"2\" rx=\"8\"/>\n",
       "<text x=\"-300.0\" y=\"272.0\" text-anchor=\"middle\" fill=\"#333\" font-family=\"Arial, sans-serif\" font-size=\"12\" font-weight=\"bold\">Cluster 3</text>\n",
       "<rect x=\"-200.0\" y=\"250.0\" width=\"100\" height=\"35\" fill=\"#e8e8e8\" stroke=\"#999\" stroke-width=\"2\" rx=\"8\"/>\n",
       "<text x=\"-150.0\" y=\"272.0\" text-anchor=\"middle\" fill=\"#333\" font-family=\"Arial, sans-serif\" font-size=\"12\" font-weight=\"bold\">Cluster 4</text>\n",
       "<rect x=\"-50.0\" y=\"250.0\" width=\"100\" height=\"35\" fill=\"#e8e8e8\" stroke=\"#999\" stroke-width=\"2\" rx=\"8\"/>\n",
       "<text x=\"0.0\" y=\"272.0\" text-anchor=\"middle\" fill=\"#333\" font-family=\"Arial, sans-serif\" font-size=\"12\" font-weight=\"bold\">Cluster 5</text>\n",
       "<rect x=\"100.0\" y=\"250.0\" width=\"100\" height=\"35\" fill=\"#e8e8e8\" stroke=\"#999\" stroke-width=\"2\" rx=\"8\"/>\n",
       "<text x=\"150.0\" y=\"272.0\" text-anchor=\"middle\" fill=\"#333\" font-family=\"Arial, sans-serif\" font-size=\"12\" font-weight=\"bold\">Cluster 6</text>\n",
       "<rect x=\"250.0\" y=\"250.0\" width=\"100\" height=\"35\" fill=\"#e8e8e8\" stroke=\"#999\" stroke-width=\"2\" rx=\"8\"/>\n",
       "<text x=\"300.0\" y=\"272.0\" text-anchor=\"middle\" fill=\"#333\" font-family=\"Arial, sans-serif\" font-size=\"12\" font-weight=\"bold\">Cluster 7</text>\n",
       "<rect x=\"400.0\" y=\"250.0\" width=\"100\" height=\"35\" fill=\"#e8e8e8\" stroke=\"#999\" stroke-width=\"2\" rx=\"8\"/>\n",
       "<text x=\"450.0\" y=\"272.0\" text-anchor=\"middle\" fill=\"#333\" font-family=\"Arial, sans-serif\" font-size=\"12\" font-weight=\"bold\">Cluster 8</text>\n",
       "<rect x=\"550.0\" y=\"250.0\" width=\"100\" height=\"35\" fill=\"#e8e8e8\" stroke=\"#999\" stroke-width=\"2\" rx=\"8\"/>\n",
       "<text x=\"600.0\" y=\"272.0\" text-anchor=\"middle\" fill=\"#333\" font-family=\"Arial, sans-serif\" font-size=\"12\" font-weight=\"bold\">Cluster 9</text>\n",
       "<rect x=\"700.0\" y=\"250.0\" width=\"100\" height=\"35\" fill=\"#e8e8e8\" stroke=\"#999\" stroke-width=\"2\" rx=\"8\"/>\n",
       "<text x=\"750.0\" y=\"272.0\" text-anchor=\"middle\" fill=\"#333\" font-family=\"Arial, sans-serif\" font-size=\"12\" font-weight=\"bold\">Cluster 10</text>\n",
       "<rect x=\"850.0\" y=\"250.0\" width=\"100\" height=\"35\" fill=\"#e8e8e8\" stroke=\"#999\" stroke-width=\"2\" rx=\"8\"/>\n",
       "<text x=\"900.0\" y=\"272.0\" text-anchor=\"middle\" fill=\"#333\" font-family=\"Arial, sans-serif\" font-size=\"12\" font-weight=\"bold\">Cluster 11</text>\n",
       "<rect x=\"1000.0\" y=\"250.0\" width=\"100\" height=\"35\" fill=\"#e8e8e8\" stroke=\"#999\" stroke-width=\"2\" rx=\"8\"/>\n",
       "<text x=\"1050.0\" y=\"272.0\" text-anchor=\"middle\" fill=\"#333\" font-family=\"Arial, sans-serif\" font-size=\"12\" font-weight=\"bold\">Cluster 12</text>\n",
       "<rect x=\"1150.0\" y=\"250.0\" width=\"100\" height=\"35\" fill=\"#e8e8e8\" stroke=\"#999\" stroke-width=\"2\" rx=\"8\"/>\n",
       "<text x=\"1200.0\" y=\"272.0\" text-anchor=\"middle\" fill=\"#333\" font-family=\"Arial, sans-serif\" font-size=\"12\" font-weight=\"bold\">Cluster 13</text>\n",
       "<rect x=\"1300.0\" y=\"250.0\" width=\"100\" height=\"35\" fill=\"#e8e8e8\" stroke=\"#999\" stroke-width=\"2\" rx=\"8\"/>\n",
       "<text x=\"1350.0\" y=\"272.0\" text-anchor=\"middle\" fill=\"#333\" font-family=\"Arial, sans-serif\" font-size=\"12\" font-weight=\"bold\">Cluster 14</text>\n",
       "    </g>\n",
       "    \n",
       "    <!-- Prompt section -->\n",
       "    <line x1=\"40\" y1=\"290\" x2=\"660\" y2=\"290\" stroke=\"#ddd\" stroke-width=\"1\"/>\n",
       "    <text x=\"40\" y=\"310\" fill=\"#666\" font-family=\"Arial, sans-serif\" font-size=\"12\" font-weight=\"bold\" text-transform=\"uppercase\" letter-spacing=\"0.5px\">Prompt</text>\n",
       "    \n",
       "    <!-- Prompt text (GitHub-compatible) -->\n",
       "    <text x=\"40\" y=\"325\" fill=\"#333\" font-family=\"Arial, sans-serif\" font-size=\"12\">The capital of state containing Dallas is</text>\n",
       "    \n",
       "    <!-- Top outputs section -->\n",
       "    <text x=\"40\" y=\"350\" fill=\"#666\" font-family=\"Arial, sans-serif\" font-size=\"10\" font-weight=\"bold\" text-transform=\"uppercase\" letter-spacing=\"0.5px\">Top Outputs</text>\n",
       "    \n",
       "    <!-- Output items -->\n",
       "    <g transform=\"translate(0, 5)\">\n",
       "        <rect x=\"40\" y=\"350\" width=\"140\" height=\"20\" fill=\"#e8e8e8\" stroke=\"none\" rx=\"6\"/>\n",
       "<text x=\"45\" y=\"364\" fill=\"#333\" font-family=\"Arial, sans-serif\" font-size=\"11\" font-weight=\"bold\">Dummy Output <tspan fill=\"#555\" font-size=\"10\">100%</tspan></text>\n",
       "    </g>\n",
       "</svg>"
      ],
      "text/plain": [
       "<IPython.core.display.SVG object>"
      ]
     },
     "metadata": {},
     "output_type": "display_data"
    }
   ],
   "source": [
    "ordered_nodes = [supernodes]\n",
    "\n",
    "# Create an InterventionGraph object with a prompt describing the clustering\n",
    "# prompt = \"Hierarchical Clustering Visualization of the Attribution Graph\"\n",
    "intervention_graph = InterventionGraph(ordered_nodes=ordered_nodes, prompt=prompt)\n",
    "\n",
    "# For demonstration, define dummy top outputs (you can replace these with model outputs)\n",
    "top_outputs = [(\"Dummy Output\", 1.0)]\n",
    "\n",
    "# Visualize the intervention graph (this uses the SVG-based visualization)\n",
    "display(create_graph_visualization(intervention_graph, top_outputs))"
   ]
  }
 ],
 "metadata": {
  "accelerator": "GPU",
  "colab": {
   "gpuType": "T4",
   "provenance": []
  },
  "kernelspec": {
   "display_name": "circuit",
   "language": "python",
   "name": "python3"
  },
  "language_info": {
   "codemirror_mode": {
    "name": "ipython",
    "version": 3
   },
   "file_extension": ".py",
   "mimetype": "text/x-python",
   "name": "python",
   "nbconvert_exporter": "python",
   "pygments_lexer": "ipython3",
   "version": "3.13.5"
  }
 },
 "nbformat": 4,
 "nbformat_minor": 0
}
